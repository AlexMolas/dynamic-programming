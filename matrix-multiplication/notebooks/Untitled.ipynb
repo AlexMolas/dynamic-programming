{
 "cells": [
  {
   "cell_type": "code",
   "execution_count": 1,
   "metadata": {},
   "outputs": [],
   "source": [
    "%load_ext autoreload\n",
    "%autoreload 2\n"
   ]
  },
  {
   "cell_type": "code",
   "execution_count": 2,
   "metadata": {},
   "outputs": [],
   "source": [
    "import csv"
   ]
  },
  {
   "cell_type": "code",
   "execution_count": 3,
   "metadata": {},
   "outputs": [],
   "source": [
    "tests = {}\n",
    "with open(\"../tests/test_cases.csv\") as file:\n",
    "    test_cases = csv.reader(file)\n",
    "    tests = []\n",
    "    for row in test_cases:\n",
    "        dims = [int(d) for d in row[0].split(' ')]\n",
    "        cost = int(row[1])\n",
    "        order = row[2]\n",
    "        tests.append([dims, cost, order])"
   ]
  },
  {
   "cell_type": "code",
   "execution_count": 4,
   "metadata": {},
   "outputs": [
    {
     "data": {
      "text/plain": [
       "[[1, 2, 3, 4, 3], 30, ' ()']"
      ]
     },
     "execution_count": 4,
     "metadata": {},
     "output_type": "execute_result"
    }
   ],
   "source": [
    "tests[0]"
   ]
  },
  {
   "cell_type": "code",
   "execution_count": 5,
   "metadata": {},
   "outputs": [
    {
     "name": "stdout",
     "output_type": "stream",
     "text": [
      "Minimum number of multiplications is  30\n"
     ]
    }
   ],
   "source": [
    "import sys\n",
    "class A():\n",
    "    def get_min_cost(self, dims, i, j) -> int:\n",
    "        if i == j:\n",
    "            return 0\n",
    "\n",
    "        _min = sys.maxsize\n",
    "\n",
    "        # place parenthesis at different places\n",
    "        # between first and last matrix,\n",
    "        # recursively calculate count of\n",
    "        # multiplications for each parenthesis\n",
    "        # placement and return the minimum count\n",
    "        for k in range(i, j):\n",
    "\n",
    "            count = (self.get_min_cost(dims, i, k)\n",
    "                     + self.get_min_cost(dims, k + 1, j)\n",
    "                     + dims[i - 1] * dims[k] * dims[j])\n",
    "\n",
    "            if count < _min:\n",
    "                _min = count\n",
    "\n",
    "                # Return minimum count\n",
    "        return _min  \n",
    "\n",
    "arr = [1, 2, 3, 4, 3] \n",
    "n = len(arr)\n",
    "  \n",
    "print(\"Minimum number of multiplications is \", A().get_min_cost(arr, 1, n-1)) \n",
    "  \n",
    "# This code is contributed by Aryan Garg \n"
   ]
  },
  {
   "cell_type": "code",
   "execution_count": 6,
   "metadata": {},
   "outputs": [
    {
     "data": {
      "text/plain": [
       "29"
      ]
     },
     "execution_count": 6,
     "metadata": {},
     "output_type": "execute_result"
    }
   ],
   "source": [
    "from mat_mult.mcm import MCMNaive\n",
    "MCMNaive().get_min_cost(arr)"
   ]
  },
  {
   "cell_type": "code",
   "execution_count": 7,
   "metadata": {},
   "outputs": [],
   "source": [
    "MCMNaive??"
   ]
  },
  {
   "cell_type": "code",
   "execution_count": null,
   "metadata": {},
   "outputs": [],
   "source": []
  }
 ],
 "metadata": {
  "kernelspec": {
   "display_name": "Python 3",
   "language": "python",
   "name": "python3"
  },
  "language_info": {
   "codemirror_mode": {
    "name": "ipython",
    "version": 3
   },
   "file_extension": ".py",
   "mimetype": "text/x-python",
   "name": "python",
   "nbconvert_exporter": "python",
   "pygments_lexer": "ipython3",
   "version": "3.9.0"
  }
 },
 "nbformat": 4,
 "nbformat_minor": 4
}
